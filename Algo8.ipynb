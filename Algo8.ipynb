{
  "nbformat": 4,
  "nbformat_minor": 0,
  "metadata": {
    "colab": {
      "name": "Algo8.ipynb",
      "provenance": []
    },
    "kernelspec": {
      "name": "python3",
      "display_name": "Python 3"
    },
    "accelerator": "GPU"
  },
  "cells": [
    {
      "cell_type": "code",
      "metadata": {
        "id": "2oqMOi3lbv9c",
        "colab_type": "code",
        "colab": {}
      },
      "source": [
        "import os\n",
        "import pandas as pd"
      ],
      "execution_count": 0,
      "outputs": []
    },
    {
      "cell_type": "code",
      "metadata": {
        "id": "W30dxjOPd8nm",
        "colab_type": "code",
        "colab": {}
      },
      "source": [
        "data = None\n",
        "for file in os.listdir('/content/drive/My Drive/accel_phone_train/'):\n",
        "    if data is None:\n",
        "        data = pd.read_csv('/content/drive/My Drive/accel_phone_train/'+file, header=None)\n",
        "    else:\n",
        "        data = pd.concat([data, pd.read_csv('/content/drive/My Drive/accel_phone_train/'+file, header=None)], axis=0)"
      ],
      "execution_count": 0,
      "outputs": []
    },
    {
      "cell_type": "code",
      "metadata": {
        "id": "VF0rk-_MGtcq",
        "colab_type": "code",
        "outputId": "191c0203-74c5-4477-82b4-f48c55c17279",
        "colab": {
          "base_uri": "https://localhost:8080/",
          "height": 402
        }
      },
      "source": [
        "data = data.sort_values([0,1,2])\n",
        "data=data.reset_index(drop=True)\n",
        "data.columns = ['id','task','time','r1','r2','r3']\n",
        "data"
      ],
      "execution_count": 3,
      "outputs": [
        {
          "output_type": "execute_result",
          "data": {
            "text/html": [
              "<div>\n",
              "<style scoped>\n",
              "    .dataframe tbody tr th:only-of-type {\n",
              "        vertical-align: middle;\n",
              "    }\n",
              "\n",
              "    .dataframe tbody tr th {\n",
              "        vertical-align: top;\n",
              "    }\n",
              "\n",
              "    .dataframe thead th {\n",
              "        text-align: right;\n",
              "    }\n",
              "</style>\n",
              "<table border=\"1\" class=\"dataframe\">\n",
              "  <thead>\n",
              "    <tr style=\"text-align: right;\">\n",
              "      <th></th>\n",
              "      <th>id</th>\n",
              "      <th>task</th>\n",
              "      <th>time</th>\n",
              "      <th>r1</th>\n",
              "      <th>r2</th>\n",
              "      <th>r3</th>\n",
              "    </tr>\n",
              "  </thead>\n",
              "  <tbody>\n",
              "    <tr>\n",
              "      <th>0</th>\n",
              "      <td>1600</td>\n",
              "      <td>A</td>\n",
              "      <td>252207666810782</td>\n",
              "      <td>-0.364761</td>\n",
              "      <td>8.793503</td>\n",
              "      <td>1.0550842;</td>\n",
              "    </tr>\n",
              "    <tr>\n",
              "      <th>1</th>\n",
              "      <td>1600</td>\n",
              "      <td>A</td>\n",
              "      <td>252207717164786</td>\n",
              "      <td>-0.879730</td>\n",
              "      <td>9.768784</td>\n",
              "      <td>1.0169983;</td>\n",
              "    </tr>\n",
              "    <tr>\n",
              "      <th>2</th>\n",
              "      <td>1600</td>\n",
              "      <td>A</td>\n",
              "      <td>252207767518790</td>\n",
              "      <td>2.001495</td>\n",
              "      <td>11.109070</td>\n",
              "      <td>2.619156;</td>\n",
              "    </tr>\n",
              "    <tr>\n",
              "      <th>3</th>\n",
              "      <td>1600</td>\n",
              "      <td>A</td>\n",
              "      <td>252207817872794</td>\n",
              "      <td>0.450623</td>\n",
              "      <td>12.651642</td>\n",
              "      <td>0.18455505;</td>\n",
              "    </tr>\n",
              "    <tr>\n",
              "      <th>4</th>\n",
              "      <td>1600</td>\n",
              "      <td>A</td>\n",
              "      <td>252207868226798</td>\n",
              "      <td>-2.164352</td>\n",
              "      <td>13.928436</td>\n",
              "      <td>-4.4224854;</td>\n",
              "    </tr>\n",
              "    <tr>\n",
              "      <th>...</th>\n",
              "      <td>...</td>\n",
              "      <td>...</td>\n",
              "      <td>...</td>\n",
              "      <td>...</td>\n",
              "      <td>...</td>\n",
              "      <td>...</td>\n",
              "    </tr>\n",
              "    <tr>\n",
              "      <th>1580240</th>\n",
              "      <td>1619</td>\n",
              "      <td>S</td>\n",
              "      <td>173119537417474</td>\n",
              "      <td>-4.827309</td>\n",
              "      <td>-3.670910</td>\n",
              "      <td>7.6470804;</td>\n",
              "    </tr>\n",
              "    <tr>\n",
              "      <th>1580241</th>\n",
              "      <td>1619</td>\n",
              "      <td>S</td>\n",
              "      <td>173119576999296</td>\n",
              "      <td>-4.746505</td>\n",
              "      <td>-3.773861</td>\n",
              "      <td>7.619547;</td>\n",
              "    </tr>\n",
              "    <tr>\n",
              "      <th>1580242</th>\n",
              "      <td>1619</td>\n",
              "      <td>S</td>\n",
              "      <td>173119616901900</td>\n",
              "      <td>-4.587889</td>\n",
              "      <td>-3.876213</td>\n",
              "      <td>7.666234;</td>\n",
              "    </tr>\n",
              "    <tr>\n",
              "      <th>1580243</th>\n",
              "      <td>1619</td>\n",
              "      <td>S</td>\n",
              "      <td>173119656833773</td>\n",
              "      <td>-4.545991</td>\n",
              "      <td>-3.940257</td>\n",
              "      <td>7.635708;</td>\n",
              "    </tr>\n",
              "    <tr>\n",
              "      <th>1580244</th>\n",
              "      <td>1619</td>\n",
              "      <td>S</td>\n",
              "      <td>173119696715755</td>\n",
              "      <td>-4.642357</td>\n",
              "      <td>-3.875015</td>\n",
              "      <td>7.6105685;</td>\n",
              "    </tr>\n",
              "  </tbody>\n",
              "</table>\n",
              "<p>1580245 rows × 6 columns</p>\n",
              "</div>"
            ],
            "text/plain": [
              "           id task             time        r1         r2           r3\n",
              "0        1600    A  252207666810782 -0.364761   8.793503   1.0550842;\n",
              "1        1600    A  252207717164786 -0.879730   9.768784   1.0169983;\n",
              "2        1600    A  252207767518790  2.001495  11.109070    2.619156;\n",
              "3        1600    A  252207817872794  0.450623  12.651642  0.18455505;\n",
              "4        1600    A  252207868226798 -2.164352  13.928436  -4.4224854;\n",
              "...       ...  ...              ...       ...        ...          ...\n",
              "1580240  1619    S  173119537417474 -4.827309  -3.670910   7.6470804;\n",
              "1580241  1619    S  173119576999296 -4.746505  -3.773861    7.619547;\n",
              "1580242  1619    S  173119616901900 -4.587889  -3.876213    7.666234;\n",
              "1580243  1619    S  173119656833773 -4.545991  -3.940257    7.635708;\n",
              "1580244  1619    S  173119696715755 -4.642357  -3.875015   7.6105685;\n",
              "\n",
              "[1580245 rows x 6 columns]"
            ]
          },
          "metadata": {
            "tags": []
          },
          "execution_count": 3
        }
      ]
    },
    {
      "cell_type": "code",
      "metadata": {
        "id": "3oTyDtwCR1jy",
        "colab_type": "code",
        "colab": {}
      },
      "source": [
        "def remove_semicolon(x):\n",
        "    return float(x[:-1])"
      ],
      "execution_count": 0,
      "outputs": []
    },
    {
      "cell_type": "code",
      "metadata": {
        "id": "ivL-snXzSWSe",
        "colab_type": "code",
        "colab": {}
      },
      "source": [
        "data['r3'] = data['r3'].apply(remove_semicolon)"
      ],
      "execution_count": 0,
      "outputs": []
    },
    {
      "cell_type": "code",
      "metadata": {
        "id": "Ani4eWeuaN62",
        "colab_type": "code",
        "colab": {
          "base_uri": "https://localhost:8080/",
          "height": 402
        },
        "outputId": "6b8aed99-3e11-45a9-b8f1-4a9c7fdfeca0"
      },
      "source": [
        "data"
      ],
      "execution_count": 6,
      "outputs": [
        {
          "output_type": "execute_result",
          "data": {
            "text/html": [
              "<div>\n",
              "<style scoped>\n",
              "    .dataframe tbody tr th:only-of-type {\n",
              "        vertical-align: middle;\n",
              "    }\n",
              "\n",
              "    .dataframe tbody tr th {\n",
              "        vertical-align: top;\n",
              "    }\n",
              "\n",
              "    .dataframe thead th {\n",
              "        text-align: right;\n",
              "    }\n",
              "</style>\n",
              "<table border=\"1\" class=\"dataframe\">\n",
              "  <thead>\n",
              "    <tr style=\"text-align: right;\">\n",
              "      <th></th>\n",
              "      <th>id</th>\n",
              "      <th>task</th>\n",
              "      <th>time</th>\n",
              "      <th>r1</th>\n",
              "      <th>r2</th>\n",
              "      <th>r3</th>\n",
              "    </tr>\n",
              "  </thead>\n",
              "  <tbody>\n",
              "    <tr>\n",
              "      <th>0</th>\n",
              "      <td>1600</td>\n",
              "      <td>A</td>\n",
              "      <td>252207666810782</td>\n",
              "      <td>-0.364761</td>\n",
              "      <td>8.793503</td>\n",
              "      <td>1.055084</td>\n",
              "    </tr>\n",
              "    <tr>\n",
              "      <th>1</th>\n",
              "      <td>1600</td>\n",
              "      <td>A</td>\n",
              "      <td>252207717164786</td>\n",
              "      <td>-0.879730</td>\n",
              "      <td>9.768784</td>\n",
              "      <td>1.016998</td>\n",
              "    </tr>\n",
              "    <tr>\n",
              "      <th>2</th>\n",
              "      <td>1600</td>\n",
              "      <td>A</td>\n",
              "      <td>252207767518790</td>\n",
              "      <td>2.001495</td>\n",
              "      <td>11.109070</td>\n",
              "      <td>2.619156</td>\n",
              "    </tr>\n",
              "    <tr>\n",
              "      <th>3</th>\n",
              "      <td>1600</td>\n",
              "      <td>A</td>\n",
              "      <td>252207817872794</td>\n",
              "      <td>0.450623</td>\n",
              "      <td>12.651642</td>\n",
              "      <td>0.184555</td>\n",
              "    </tr>\n",
              "    <tr>\n",
              "      <th>4</th>\n",
              "      <td>1600</td>\n",
              "      <td>A</td>\n",
              "      <td>252207868226798</td>\n",
              "      <td>-2.164352</td>\n",
              "      <td>13.928436</td>\n",
              "      <td>-4.422485</td>\n",
              "    </tr>\n",
              "    <tr>\n",
              "      <th>...</th>\n",
              "      <td>...</td>\n",
              "      <td>...</td>\n",
              "      <td>...</td>\n",
              "      <td>...</td>\n",
              "      <td>...</td>\n",
              "      <td>...</td>\n",
              "    </tr>\n",
              "    <tr>\n",
              "      <th>1580240</th>\n",
              "      <td>1619</td>\n",
              "      <td>S</td>\n",
              "      <td>173119537417474</td>\n",
              "      <td>-4.827309</td>\n",
              "      <td>-3.670910</td>\n",
              "      <td>7.647080</td>\n",
              "    </tr>\n",
              "    <tr>\n",
              "      <th>1580241</th>\n",
              "      <td>1619</td>\n",
              "      <td>S</td>\n",
              "      <td>173119576999296</td>\n",
              "      <td>-4.746505</td>\n",
              "      <td>-3.773861</td>\n",
              "      <td>7.619547</td>\n",
              "    </tr>\n",
              "    <tr>\n",
              "      <th>1580242</th>\n",
              "      <td>1619</td>\n",
              "      <td>S</td>\n",
              "      <td>173119616901900</td>\n",
              "      <td>-4.587889</td>\n",
              "      <td>-3.876213</td>\n",
              "      <td>7.666234</td>\n",
              "    </tr>\n",
              "    <tr>\n",
              "      <th>1580243</th>\n",
              "      <td>1619</td>\n",
              "      <td>S</td>\n",
              "      <td>173119656833773</td>\n",
              "      <td>-4.545991</td>\n",
              "      <td>-3.940257</td>\n",
              "      <td>7.635708</td>\n",
              "    </tr>\n",
              "    <tr>\n",
              "      <th>1580244</th>\n",
              "      <td>1619</td>\n",
              "      <td>S</td>\n",
              "      <td>173119696715755</td>\n",
              "      <td>-4.642357</td>\n",
              "      <td>-3.875015</td>\n",
              "      <td>7.610569</td>\n",
              "    </tr>\n",
              "  </tbody>\n",
              "</table>\n",
              "<p>1580245 rows × 6 columns</p>\n",
              "</div>"
            ],
            "text/plain": [
              "           id task             time        r1         r2        r3\n",
              "0        1600    A  252207666810782 -0.364761   8.793503  1.055084\n",
              "1        1600    A  252207717164786 -0.879730   9.768784  1.016998\n",
              "2        1600    A  252207767518790  2.001495  11.109070  2.619156\n",
              "3        1600    A  252207817872794  0.450623  12.651642  0.184555\n",
              "4        1600    A  252207868226798 -2.164352  13.928436 -4.422485\n",
              "...       ...  ...              ...       ...        ...       ...\n",
              "1580240  1619    S  173119537417474 -4.827309  -3.670910  7.647080\n",
              "1580241  1619    S  173119576999296 -4.746505  -3.773861  7.619547\n",
              "1580242  1619    S  173119616901900 -4.587889  -3.876213  7.666234\n",
              "1580243  1619    S  173119656833773 -4.545991  -3.940257  7.635708\n",
              "1580244  1619    S  173119696715755 -4.642357  -3.875015  7.610569\n",
              "\n",
              "[1580245 rows x 6 columns]"
            ]
          },
          "metadata": {
            "tags": []
          },
          "execution_count": 6
        }
      ]
    },
    {
      "cell_type": "code",
      "metadata": {
        "id": "_LApqRWsTzTe",
        "colab_type": "code",
        "colab": {
          "base_uri": "https://localhost:8080/",
          "height": 34
        },
        "outputId": "234a2211-f602-4e1b-ef23-c4b773d2a6c6"
      },
      "source": [
        "import keras"
      ],
      "execution_count": 7,
      "outputs": [
        {
          "output_type": "stream",
          "text": [
            "Using TensorFlow backend.\n"
          ],
          "name": "stderr"
        }
      ]
    },
    {
      "cell_type": "code",
      "metadata": {
        "id": "OxMFBzjrUWSs",
        "colab_type": "code",
        "colab": {}
      },
      "source": [
        "def _default_Conv1D(filters, kernel_size):\n",
        "    return keras.layers.Conv1D(filters=filters,\n",
        "                              kernel_size=kernel_size,\n",
        "                              strides=1,\n",
        "                              activation='relu',\n",
        "                              use_bias=True,\n",
        "                              padding='same')\n",
        "    \n",
        "def fn(inputs, num_filters):\n",
        "    z_bottleneck = _default_Conv1D(filters=num_filters, kernel_size=1)(inputs)\n",
        "\n",
        "    z_maxpool = keras.layers.MaxPool1D(pool_size=3, strides=1, padding='same')(inputs)\n",
        "    \n",
        "    z1 = _default_Conv1D(filters=num_filters, kernel_size=10)(z_bottleneck)\n",
        "    z2 = _default_Conv1D(filters=num_filters, kernel_size=20)(z_bottleneck)\n",
        "    z3 = _default_Conv1D(filters=num_filters, kernel_size=40)(z_bottleneck)\n",
        "    z4 = _default_Conv1D(filters=num_filters, kernel_size=1)(z_maxpool)\n",
        "    \n",
        "    z = keras.layers.Concatenate(axis=2)([z1,z2,z3,z4])\n",
        "    z = keras.layers.BatchNormalization()(z)\n",
        "    \n",
        "    z = keras.layers.Activation('relu')(z)\n",
        "    return z\n",
        "\n",
        "\n",
        "def shortcut_layer(inputs, z_inception):\n",
        "    z_shortcut = keras.layers.Conv1D(filters=int(z_inception.shape[-1]),kernel_size=1,padding='same',use_bias=False)(inputs)\n",
        "    z_shortcut = keras.layers.normalization.BatchNormalization()(z_shortcut)\n",
        "    \n",
        "    z = keras.layers.Add()([z_shortcut,z_inception])\n",
        "    return keras.layers.Activation('relu')(z)\n",
        "\n",
        "def build_model(input_shape, num_classes, num_modules=6):\n",
        "    input_layer = keras.layers.Input(input_shape)\n",
        "    z = input_layer\n",
        "    z_residual = input_layer\n",
        "    \n",
        "    for i in range(num_modules):\n",
        "        z = fn(z, 32)\n",
        "        if i%3 == 2:\n",
        "            z = shortcut_layer(z_residual, z)\n",
        "            z_residual = z\n",
        "    \n",
        "    gap_layer = keras.layers.GlobalAveragePooling1D()(z)\n",
        "    output_layer = keras.layers.Dense(num_classes, activation=\"softmax\")(gap_layer)\n",
        "    \n",
        "    model = keras.models.Model(inputs = input_layer, outputs = output_layer)\n",
        "    model.compile(loss = \"categorical_crossentropy\", optimizer = keras.optimizers.Adam(learning_rate=learning_rate), metrics = ['accuracy'])\n",
        "    \n",
        "    return model"
      ],
      "execution_count": 0,
      "outputs": []
    },
    {
      "cell_type": "code",
      "metadata": {
        "id": "w6Bjqss-Ud3j",
        "colab_type": "code",
        "colab": {}
      },
      "source": [
        "import numpy as np"
      ],
      "execution_count": 0,
      "outputs": []
    },
    {
      "cell_type": "code",
      "metadata": {
        "id": "bCCOs5QigcNi",
        "colab_type": "code",
        "outputId": "4de1fd38-bb98-4e1b-a5c7-2965ccbfbfb1",
        "colab": {
          "base_uri": "https://localhost:8080/",
          "height": 34
        }
      },
      "source": [
        "n_labels = len(set(data['task']))\n",
        "n_labels"
      ],
      "execution_count": 10,
      "outputs": [
        {
          "output_type": "execute_result",
          "data": {
            "text/plain": [
              "18"
            ]
          },
          "metadata": {
            "tags": []
          },
          "execution_count": 10
        }
      ]
    },
    {
      "cell_type": "code",
      "metadata": {
        "id": "0yC_dmXsgeaT",
        "colab_type": "code",
        "colab": {}
      },
      "source": [
        "x = data.groupby(['id', 'task']).apply(lambda x: np.array(x[['r1','r2','r3']].values.tolist()))\n",
        "users, tasks = [],[]\n",
        "for user, task in x.index.values:\n",
        "    users.append(user)\n",
        "    tasks.append(task)"
      ],
      "execution_count": 0,
      "outputs": []
    },
    {
      "cell_type": "code",
      "metadata": {
        "id": "UAGJot5pgg1x",
        "colab_type": "code",
        "colab": {}
      },
      "source": [
        "import random\n",
        "def sample_ts(x, length):\n",
        "    sample_index = random.choice(x.index.values)\n",
        "    task = sample_index[1]\n",
        "    temp = x[sample_index]\n",
        "    \n",
        "    start_index = random.randint(0 , temp.shape[0]-length)\n",
        "    sample = temp[start_index:start_index+length]\n",
        "    \n",
        "    return sample, task\n",
        "\n",
        "def get_samples(x, length=100, n_samples=2000):\n",
        "    samples = []\n",
        "    tasks = []\n",
        "    for _ in range(n_samples):\n",
        "        a,b = sample_ts(x, length)\n",
        "        samples.append(a)\n",
        "        tasks.append(b)\n",
        "    return np.array(samples), tasks\n"
      ],
      "execution_count": 0,
      "outputs": []
    },
    {
      "cell_type": "code",
      "metadata": {
        "id": "crp3676zgkX4",
        "colab_type": "code",
        "colab": {}
      },
      "source": [
        "length = 200\n",
        "n_samples=10000\n",
        "epochs=20\n",
        "batch_size=16\n",
        "learning_rate=0.005"
      ],
      "execution_count": 0,
      "outputs": []
    },
    {
      "cell_type": "code",
      "metadata": {
        "id": "gJm82raWgnhD",
        "colab_type": "code",
        "colab": {}
      },
      "source": [
        "new_values, tasks = get_samples(x, length=length, n_samples=n_samples)"
      ],
      "execution_count": 0,
      "outputs": []
    },
    {
      "cell_type": "code",
      "metadata": {
        "id": "asAhSk3MgqLG",
        "colab_type": "code",
        "colab": {}
      },
      "source": [
        "from sklearn.preprocessing import LabelEncoder, OneHotEncoder\n",
        "\n",
        "le = LabelEncoder()\n",
        "le_output = le.fit_transform(tasks)\n",
        "\n",
        "ohe = OneHotEncoder()\n",
        "ohe_output = ohe.fit_transform(le_output.reshape(-1,1)).toarray()"
      ],
      "execution_count": 0,
      "outputs": []
    },
    {
      "cell_type": "code",
      "metadata": {
        "id": "lgLn9jjRgs8j",
        "colab_type": "code",
        "colab": {}
      },
      "source": [
        "model = build_model([None, 3], n_labels)"
      ],
      "execution_count": 0,
      "outputs": []
    },
    {
      "cell_type": "code",
      "metadata": {
        "id": "IV_LwRiTgvk1",
        "colab_type": "code",
        "outputId": "c5c255e4-5509-44ef-a8d1-c58fb2a42ed0",
        "colab": {
          "base_uri": "https://localhost:8080/",
          "height": 739
        }
      },
      "source": [
        "%%time\n",
        "model.fit(new_values, ohe_output, epochs=epochs, batch_size=batch_size, validation_split=0.0)"
      ],
      "execution_count": 18,
      "outputs": [
        {
          "output_type": "stream",
          "text": [
            "Epoch 1/20\n",
            "10000/10000 [==============================] - 14s 1ms/step - loss: 0.9663 - accuracy: 0.6434\n",
            "Epoch 2/20\n",
            "10000/10000 [==============================] - 14s 1ms/step - loss: 0.9321 - accuracy: 0.6542\n",
            "Epoch 3/20\n",
            "10000/10000 [==============================] - 14s 1ms/step - loss: 0.9254 - accuracy: 0.6613\n",
            "Epoch 4/20\n",
            "10000/10000 [==============================] - 14s 1ms/step - loss: 0.8882 - accuracy: 0.6718\n",
            "Epoch 5/20\n",
            "10000/10000 [==============================] - 14s 1ms/step - loss: 0.8437 - accuracy: 0.6921\n",
            "Epoch 6/20\n",
            "10000/10000 [==============================] - 15s 1ms/step - loss: 0.8483 - accuracy: 0.6901\n",
            "Epoch 7/20\n",
            "10000/10000 [==============================] - 14s 1ms/step - loss: 0.8157 - accuracy: 0.6980\n",
            "Epoch 8/20\n",
            "10000/10000 [==============================] - 14s 1ms/step - loss: 0.7779 - accuracy: 0.7127\n",
            "Epoch 9/20\n",
            "10000/10000 [==============================] - 14s 1ms/step - loss: 0.7581 - accuracy: 0.7208\n",
            "Epoch 10/20\n",
            "10000/10000 [==============================] - 14s 1ms/step - loss: 0.7573 - accuracy: 0.7219\n",
            "Epoch 11/20\n",
            "10000/10000 [==============================] - 14s 1ms/step - loss: 0.7455 - accuracy: 0.7240\n",
            "Epoch 12/20\n",
            "10000/10000 [==============================] - 14s 1ms/step - loss: 0.7082 - accuracy: 0.7421\n",
            "Epoch 13/20\n",
            "10000/10000 [==============================] - 14s 1ms/step - loss: 0.6997 - accuracy: 0.7496\n",
            "Epoch 14/20\n",
            "10000/10000 [==============================] - 14s 1ms/step - loss: 0.6865 - accuracy: 0.7468\n",
            "Epoch 15/20\n",
            "10000/10000 [==============================] - 14s 1ms/step - loss: 0.6751 - accuracy: 0.7513\n",
            "Epoch 16/20\n",
            "10000/10000 [==============================] - 14s 1ms/step - loss: 0.6636 - accuracy: 0.7588\n",
            "Epoch 17/20\n",
            "10000/10000 [==============================] - 14s 1ms/step - loss: 0.6355 - accuracy: 0.7652\n",
            "Epoch 18/20\n",
            "10000/10000 [==============================] - 14s 1ms/step - loss: 0.6220 - accuracy: 0.7706\n",
            "Epoch 19/20\n",
            "10000/10000 [==============================] - 14s 1ms/step - loss: 0.6250 - accuracy: 0.7750\n",
            "Epoch 20/20\n",
            "10000/10000 [==============================] - 14s 1ms/step - loss: 0.6024 - accuracy: 0.7801\n",
            "CPU times: user 5min 10s, sys: 19.3 s, total: 5min 29s\n",
            "Wall time: 4min 42s\n"
          ],
          "name": "stdout"
        },
        {
          "output_type": "execute_result",
          "data": {
            "text/plain": [
              "<keras.callbacks.callbacks.History at 0x7fe1dfb879b0>"
            ]
          },
          "metadata": {
            "tags": []
          },
          "execution_count": 18
        }
      ]
    },
    {
      "cell_type": "code",
      "metadata": {
        "id": "zh5hnMFegyMR",
        "colab_type": "code",
        "colab": {}
      },
      "source": [
        "def load_test_data(dir_ = '/content/drive/My Drive/Algo8/test/phone/accel/'):\n",
        "    data = None\n",
        "    for file in os.listdir(dir_):\n",
        "        if data is None:\n",
        "            data = pd.read_csv(dir_+file, header=None)\n",
        "        else:\n",
        "            data = pd.concat([data, pd.read_csv(dir_+file, header=None)], axis=0)\n",
        "\n",
        "    data.columns = ['id','task','time','r1','r2','r3']\n",
        "    data = data.sort_values(['id','task','time'])\n",
        "    data=data.reset_index(drop=True)\n",
        "\n",
        "    data['r3'] = data['r3'].apply(remove_semicolon)\n",
        "\n",
        "    x = data.groupby(['id', 'task']).apply(lambda x: np.array(x[['r1','r2','r3']].values.tolist()))\n",
        "\n",
        "    return x"
      ],
      "execution_count": 0,
      "outputs": []
    },
    {
      "cell_type": "code",
      "metadata": {
        "id": "1C0ElckXZQyW",
        "colab_type": "code",
        "colab": {}
      },
      "source": [
        "test_x = load_test_data('/content/drive/My Drive/Algo8/test/phone/accel/')"
      ],
      "execution_count": 0,
      "outputs": []
    },
    {
      "cell_type": "code",
      "metadata": {
        "id": "4dFBQlRNZUUU",
        "colab_type": "code",
        "colab": {}
      },
      "source": [
        "test_y = []\n",
        "for _, task in test_x.index.values:\n",
        "    test_y.append(task)"
      ],
      "execution_count": 0,
      "outputs": []
    },
    {
      "cell_type": "code",
      "metadata": {
        "id": "m1Df7yApZXAp",
        "colab_type": "code",
        "colab": {}
      },
      "source": [
        "def predict_full(model, x):\n",
        "    predictions = []\n",
        "    for t in x:\n",
        "        predictions.append(model.predict(t.reshape([1,t.shape[0], t.shape[1]])))\n",
        "\n",
        "    labels = []\n",
        "    for pred in predictions:\n",
        "        labels.append(ohe.inverse_transform(pred)[0])\n",
        "\n",
        "    labels = le.inverse_transform(labels)\n",
        "    return labels"
      ],
      "execution_count": 0,
      "outputs": []
    },
    {
      "cell_type": "code",
      "metadata": {
        "id": "nw793Yl9ZZ2g",
        "colab_type": "code",
        "colab": {
          "base_uri": "https://localhost:8080/",
          "height": 70
        },
        "outputId": "4be6f47b-00bd-460d-dac1-7091dca28f96"
      },
      "source": [
        "total_preds = predict_full(model, test_x)"
      ],
      "execution_count": 24,
      "outputs": [
        {
          "output_type": "stream",
          "text": [
            "/usr/local/lib/python3.6/dist-packages/sklearn/preprocessing/_label.py:289: DataConversionWarning: A column-vector y was passed when a 1d array was expected. Please change the shape of y to (n_samples, ), for example using ravel().\n",
            "  y = column_or_1d(y, warn=True)\n"
          ],
          "name": "stderr"
        }
      ]
    },
    {
      "cell_type": "code",
      "metadata": {
        "id": "_AbVJLfYZcRH",
        "colab_type": "code",
        "colab": {}
      },
      "source": [
        "def predict_sample(model, p_x):\n",
        "    predictions = model.predict(p_x)\n",
        "\n",
        "    labels = ohe.inverse_transform(predictions)\n",
        "\n",
        "    labels = le.inverse_transform(labels)\n",
        "    return labels"
      ],
      "execution_count": 0,
      "outputs": []
    },
    {
      "cell_type": "code",
      "metadata": {
        "id": "y-V2ePzrZe93",
        "colab_type": "code",
        "colab": {}
      },
      "source": [
        "p_x, p_y = get_samples(test_x, length=200, n_samples=50000)"
      ],
      "execution_count": 0,
      "outputs": []
    },
    {
      "cell_type": "code",
      "metadata": {
        "id": "kiMYTJRVZhk6",
        "colab_type": "code",
        "colab": {
          "base_uri": "https://localhost:8080/",
          "height": 70
        },
        "outputId": "af49029c-766c-42a9-adb4-75fc576b8599"
      },
      "source": [
        "sample_preds = predict_sample(model, p_x)"
      ],
      "execution_count": 27,
      "outputs": [
        {
          "output_type": "stream",
          "text": [
            "/usr/local/lib/python3.6/dist-packages/sklearn/preprocessing/_label.py:289: DataConversionWarning: A column-vector y was passed when a 1d array was expected. Please change the shape of y to (n_samples, ), for example using ravel().\n",
            "  y = column_or_1d(y, warn=True)\n"
          ],
          "name": "stderr"
        }
      ]
    },
    {
      "cell_type": "code",
      "metadata": {
        "id": "dOAfg4t7ZkAl",
        "colab_type": "code",
        "colab": {}
      },
      "source": [
        "from sklearn.metrics import confusion_matrix, accuracy_score"
      ],
      "execution_count": 0,
      "outputs": []
    },
    {
      "cell_type": "code",
      "metadata": {
        "id": "JpOvV97hZmv2",
        "colab_type": "code",
        "colab": {
          "base_uri": "https://localhost:8080/",
          "height": 34
        },
        "outputId": "c5381e4b-0dcd-493a-c05c-05e6b12e0aba"
      },
      "source": [
        "### overall\n",
        "accuracy_score(test_y, total_preds)"
      ],
      "execution_count": 29,
      "outputs": [
        {
          "output_type": "execute_result",
          "data": {
            "text/plain": [
              "0.3055555555555556"
            ]
          },
          "metadata": {
            "tags": []
          },
          "execution_count": 29
        }
      ]
    },
    {
      "cell_type": "code",
      "metadata": {
        "id": "r7mzfxY5djVO",
        "colab_type": "code",
        "colab": {}
      },
      "source": [
        ""
      ],
      "execution_count": 0,
      "outputs": []
    }
  ]
}